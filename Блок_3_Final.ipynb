{
 "cells": [
  {
   "cell_type": "markdown",
   "id": "c4f45e6d",
   "metadata": {},
   "source": [
    "## Question 1: Total Quantities Over Time\n",
    "What does the trend of total quantities over time look like?"
   ]
  },
  {
   "cell_type": "code",
   "execution_count": null,
   "id": "615a4ca4",
   "metadata": {},
   "outputs": [],
   "source": [
    "\n",
    "# Analyze and visualize total quantities over time\n",
    "time_series = data.groupby('Дата')['Количество'].sum().reset_index()\n",
    "\n",
    "plt.figure(figsize=(12, 6))\n",
    "plt.plot(time_series['Дата'], time_series['Количество'], marker='o', linestyle='-', alpha=0.7)\n",
    "plt.title(\"Total Quantities Over Time\")\n",
    "plt.xlabel(\"Date\")\n",
    "plt.ylabel(\"Total Quantities\")\n",
    "plt.grid()\n",
    "plt.tight_layout()\n",
    "plt.show()\n"
   ]
  },
  {
   "cell_type": "markdown",
   "id": "ce08a9e1",
   "metadata": {},
   "source": [
    "The graph shows the trend of total quantities over time. It provides insight into peak periods and low activity periods."
   ]
  },
  {
   "cell_type": "markdown",
   "id": "cb418711",
   "metadata": {},
   "source": [
    "## Question 2: Quantities by Warehouse\n",
    "How are quantities distributed across different warehouses?"
   ]
  },
  {
   "cell_type": "code",
   "execution_count": null,
   "id": "fd87f178",
   "metadata": {},
   "outputs": [],
   "source": [
    "\n",
    "# Analyze and visualize quantities by warehouse\n",
    "warehouse_distribution = data.groupby('Склад')['Количество'].sum().reset_index()\n",
    "\n",
    "plt.figure(figsize=(10, 6))\n",
    "plt.bar(warehouse_distribution['Склад'].astype(str), warehouse_distribution['Количество'], color='skyblue')\n",
    "plt.title(\"Distribution of Quantities by Warehouse\")\n",
    "plt.xlabel(\"Warehouse\")\n",
    "plt.ylabel(\"Total Quantities\")\n",
    "plt.grid(axis='y')\n",
    "plt.tight_layout()\n",
    "plt.show()\n"
   ]
  },
  {
   "cell_type": "markdown",
   "id": "3157c87f",
   "metadata": {},
   "source": [
    "The bar chart highlights the distribution of quantities across different warehouses. This allows for comparison of activity levels by warehouse."
   ]
  },
  {
   "cell_type": "markdown",
   "id": "0c877094",
   "metadata": {},
   "source": [
    "## Question 3: Top Nomenclature by Quantity\n",
    "What are the top 10 nomenclature items by quantity?"
   ]
  },
  {
   "cell_type": "code",
   "execution_count": null,
   "id": "4608d1aa",
   "metadata": {},
   "outputs": [],
   "source": [
    "\n",
    "# Analyze and visualize top 10 nomenclature items by quantity\n",
    "top_nomenclature = data.groupby('Номенклатура')['Количество'].sum().reset_index().sort_values(by='Количество', ascending=False).head(10)\n",
    "\n",
    "plt.figure(figsize=(12, 6))\n",
    "plt.barh(top_nomenclature['Номенклатура'], top_nomenclature['Количество'], color='orange')\n",
    "plt.title(\"Top 10 Nomenclature by Quantity\")\n",
    "plt.xlabel(\"Total Quantities\")\n",
    "plt.ylabel(\"Nomenclature\")\n",
    "plt.gca().invert_yaxis()\n",
    "plt.tight_layout()\n",
    "plt.show()\n"
   ]
  },
  {
   "cell_type": "markdown",
   "id": "8e6566a5",
   "metadata": {},
   "source": [
    "The horizontal bar chart shows the top 10 nomenclature items by total quantity. This identifies the most frequently processed items."
   ]
  },
  {
   "cell_type": "markdown",
   "id": "190d6833",
   "metadata": {},
   "source": [
    "## Question 4: Top Counterparties by Quantity\n",
    "Which counterparties are the top 10 by total quantity?"
   ]
  },
  {
   "cell_type": "code",
   "execution_count": null,
   "id": "82e4c961",
   "metadata": {},
   "outputs": [],
   "source": [
    "\n",
    "# Analyze and visualize top 10 counterparties by quantity\n",
    "top_counterparties = data.groupby('Контрагент')['Количество'].sum().reset_index().sort_values(by='Количество', ascending=False).head(10)\n",
    "\n",
    "plt.figure(figsize=(12, 6))\n",
    "plt.barh(top_counterparties['Контрагент'], top_counterparties['Количество'], color='green')\n",
    "plt.title(\"Top 10 Counterparties by Quantity\")\n",
    "plt.xlabel(\"Total Quantities\")\n",
    "plt.ylabel(\"Counterparty\")\n",
    "plt.gca().invert_yaxis()\n",
    "plt.tight_layout()\n",
    "plt.show()\n"
   ]
  },
  {
   "cell_type": "markdown",
   "id": "fa3bcf16",
   "metadata": {},
   "source": [
    "The horizontal bar chart displays the top 10 counterparties by total quantity. This helps identify the most active partners."
   ]
  },
  {
   "cell_type": "markdown",
   "id": "70dc5845",
   "metadata": {},
   "source": [
    "## Question 5: Attach ZIP Archive\n",
    "The final ZIP archive containing all results and visualizations is attached."
   ]
  },
  {
   "cell_type": "markdown",
   "id": "41584b71",
   "metadata": {},
   "source": [
    "[Download the ZIP archive](sandbox:/mnt/data/Analysis_and_Notebook_Results.zip)"
   ]
  }
 ],
 "metadata": {
  "kernelspec": {
   "display_name": "Python 3 (ipykernel)",
   "language": "python",
   "name": "python3"
  },
  "language_info": {
   "codemirror_mode": {
    "name": "ipython",
    "version": 3
   },
   "file_extension": ".py",
   "mimetype": "text/x-python",
   "name": "python",
   "nbconvert_exporter": "python",
   "pygments_lexer": "ipython3",
   "version": "3.11.5"
  }
 },
 "nbformat": 4,
 "nbformat_minor": 5
}
