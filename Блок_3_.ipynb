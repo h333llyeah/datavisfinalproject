{
 "cells": [
  {
   "cell_type": "code",
   "execution_count": null,
   "id": "d15ce546",
   "metadata": {},
   "outputs": [],
   "source": [
    "import pandas as pd\n",
    "import numpy as np\n",
    "import matplotlib.pyplot as plt\n",
    "import seaborn as sns"
   ]
  },
  {
   "cell_type": "code",
   "execution_count": null,
   "id": "6638ea08",
   "metadata": {},
   "outputs": [],
   "source": [
    "# Прочитайте данные (переменную назовите 'df')\n",
    "df = pd.read_csv('data.csv')\n",
    "\n",
    "# Вывести несколько первых строк таблицы данных\n",
    "print(df.head())"
   ]
  },
  {
   "cell_type": "code",
   "execution_count": null,
   "id": "fe010fc4",
   "metadata": {},
   "outputs": [],
   "source": [
    "print(df.info())"
   ]
  },
  {
   "cell_type": "markdown",
   "id": "a8e1b306",
   "metadata": {},
   "source": [
    "Проверяем формат столбцов"
   ]
  },
  {
   "cell_type": "code",
   "execution_count": null,
   "id": "0db7a439",
   "metadata": {},
   "outputs": [],
   "source": [
    "df['Дата'] = pd.to_datetime(df['Дата'], errors='coerce')\n",
    "print(df['Дата'].head())"
   ]
  },
  {
   "cell_type": "markdown",
   "id": "ab427988",
   "metadata": {},
   "source": [
    "Сразу переведем столбец \"Дата\" в правильный формат"
   ]
  },
  {
   "cell_type": "code",
   "execution_count": null,
   "id": "317e1a0b",
   "metadata": {},
   "outputs": [],
   "source": [
    "grouped_df = df.groupby('Дата')['Количество'].sum().reset_index()\n",
    "print(grouped_df.head())"
   ]
  },
  {
   "cell_type": "markdown",
   "id": "c117ede9",
   "metadata": {},
   "source": [
    "Сгруппируйте данные по дате, посчитайте количество продаж"
   ]
  },
  {
   "cell_type": "code",
   "execution_count": null,
   "id": "66085e84",
   "metadata": {},
   "outputs": [],
   "source": [
    "print(grouped_df.head())"
   ]
  },
  {
   "cell_type": "markdown",
   "id": "fbfd90ac",
   "metadata": {},
   "source": [
    "Вывести несколько первых строк сгруппированных данных"
   ]
  },
  {
   "cell_type": "code",
   "execution_count": null,
   "id": "79e12654",
   "metadata": {},
   "outputs": [],
   "source": [
    "import matplotlib.pyplot as plt\n",
    "\n",
    "plt.figure(figsize=(12, 6))\n",
    "plt.plot(grouped_df['Дата'], grouped_df['Количество'], marker='o', linestyle='-', alpha=0.7)\n",
    "plt.title(\"График продаж по датам\")\n",
    "plt.xlabel(\"Дата\")\n",
    "plt.ylabel(\"Количество продаж\")\n",
    "plt.grid()\n",
    "plt.tight_layout()\n",
    "plt.show()"
   ]
  },
  {
   "cell_type": "markdown",
   "id": "9ce32d36",
   "metadata": {},
   "source": [
    "Нарисуйте график продаж у `grouped_df`"
   ]
  },
  {
   "cell_type": "code",
   "execution_count": null,
   "id": "9a46b2f5",
   "metadata": {},
   "outputs": [],
   "source": [
    "import matplotlib.pyplot as plt\n",
    "\n",
    "plt.figure(figsize=(12, 6)) \n",
    "plt.plot(grouped_df['Дата'], grouped_df['Количество'], marker='o', linestyle='-', color='blue', alpha=0.7)\n",
    "plt.title(\"График продаж по датам\", fontsize=16)\n",
    "plt.xlabel(\"Дата\", fontsize=12)\n",
    "plt.ylabel(\"Количество продаж\", fontsize=12)\n",
    "plt.grid(True) \n",
    "plt.tight_layout() \n",
    "plt.show()"
   ]
  },
  {
   "cell_type": "markdown",
   "id": "311b54f3",
   "metadata": {},
   "source": [
    "Опишите что вы видите на графике. Ваша задача - максимально описать график"
   ]
  },
  {
   "cell_type": "code",
   "execution_count": null,
   "id": "c35df4fa",
   "metadata": {},
   "outputs": [],
   "source": [
    "На графике можно увидеть, как изменяется количество продаж с течением времени.\n",
    "\tПериоды роста: Видны моменты, когда количество продаж резко увеличивается, что может быть связано с определенными событиями, такими как акции, сезонные распродажи или выход новых товаров.\n",
    "\tПериоды спада: Также присутствуют участки, где продажи падают, что может быть связано с отсутствием активности в определенные дни или снижением спроса.\n",
    "\tАномальные пики: Некоторые даты значительно выделяются на графике, что может быть связано с выбросами данных или единичными крупными заказами.\n",
    "\tОбщая динамика: Продажи имеют колебания, которые могут повторяться в зависимости от сезона или внешних факторов, таких как погодные условия, праздники или изменения на рынке.\n",
    "Этот график позволяет увидеть закономерности и аномалии в продажах, которые можно использовать для прогнозирования спроса или анализа эффективности маркетинговых мероприятий."
   ]
  },
  {
   "cell_type": "markdown",
   "id": "85412b89",
   "metadata": {},
   "source": [
    "Найдите строку, у которой максимальный выброс по количеству продаж (нужно найти выброс у `df`)"
   ]
  },
  {
   "cell_type": "code",
   "execution_count": null,
   "id": "2baebf0c",
   "metadata": {},
   "outputs": [],
   "source": [
    "outlier = df.loc[df['Количество'].idxmax()]\n",
    "print(outlier)"
   ]
  },
  {
   "cell_type": "markdown",
   "id": "30aa9654",
   "metadata": {},
   "source": [
    "Найдите топовый товар по продажам по средам за июнь, июль, август у 3 склада"
   ]
  },
  {
   "cell_type": "code",
   "execution_count": null,
   "id": "c3d75d16",
   "metadata": {},
   "outputs": [],
   "source": [
    "df['Month'] = df['Дата'].dt.month\n",
    "df['Day_of_Week'] = df['Дата'].dt.day_name()\n",
    "\n",
    "filtered_df = df[\n",
    "    (df['Month'].isin([6, 7, 8])) & \n",
    "    (df['Day_of_Week'] == 'Wednesday') &\n",
    "    (df['Склад'] == 3)\n",
    "]\n",
    "top_product = filtered_df.groupby('Номенклатура')['Количество'].sum().idxmax()\n",
    "\n",
    "print(f\"Топовый товар по продажам: {top_product}\")"
   ]
  },
  {
   "cell_type": "markdown",
   "id": "66211d92",
   "metadata": {},
   "source": [
    "Скачайте данные по погоде с https://rp5.ru/Архив_погоды_в_Астане (скачайте исходные данные, и далее преобразуйте так, чтобы мы имели Дату и Среднюю температуру за день), объедините таблицу температуры с `grouped_df`, и нарисуйте график `y=['Количество продаж', 'T']`, где Т это температура. А также отдельно график температуры."
   ]
  },
  {
   "cell_type": "code",
   "execution_count": null,
   "id": "5f707733",
   "metadata": {},
   "outputs": [],
   "source": []
  }
 ],
 "metadata": {
  "kernelspec": {
   "display_name": "Python 3 (ipykernel)",
   "language": "python",
   "name": "python3"
  },
  "language_info": {
   "codemirror_mode": {
    "name": "ipython",
    "version": 3
   },
   "file_extension": ".py",
   "mimetype": "text/x-python",
   "name": "python",
   "nbconvert_exporter": "python",
   "pygments_lexer": "ipython3",
   "version": "3.11.5"
  }
 },
 "nbformat": 4,
 "nbformat_minor": 5
}
